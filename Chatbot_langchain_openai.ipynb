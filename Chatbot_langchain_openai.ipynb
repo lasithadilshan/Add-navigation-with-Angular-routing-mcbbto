{
  "nbformat": 4,
  "nbformat_minor": 0,
  "metadata": {
    "colab": {
      "provenance": [],
      "authorship_tag": "ABX9TyMip/DE7gO05ZUrqakexH/I",
      "include_colab_link": true
    },
    "kernelspec": {
      "name": "python3",
      "display_name": "Python 3"
    },
    "language_info": {
      "name": "python"
    }
  },
  "cells": [
    {
      "cell_type": "markdown",
      "metadata": {
        "id": "view-in-github",
        "colab_type": "text"
      },
      "source": [
        "<a href=\"https://colab.research.google.com/github/lasithadilshan/Add-navigation-with-Angular-routing-mcbbto/blob/master/Chatbot_langchain_openai.ipynb\" target=\"_parent\"><img src=\"https://colab.research.google.com/assets/colab-badge.svg\" alt=\"Open In Colab\"/></a>"
      ]
    },
    {
      "cell_type": "markdown",
      "source": [
        "**Simple Chatbot** using LangChain and OpenAI"
      ],
      "metadata": {
        "id": "dPcCkVyQNiNF"
      }
    },
    {
      "cell_type": "code",
      "source": [
        "# Install the necessary package\n",
        "!pip install langchain -qU\n",
        "!pip install langchain-openai -qU"
      ],
      "metadata": {
        "colab": {
          "base_uri": "https://localhost:8080/"
        },
        "id": "MuVYpEf4N_uj",
        "outputId": "08fc8476-e744-4720-f0a6-014dc1bdfecf"
      },
      "execution_count": null,
      "outputs": [
        {
          "output_type": "stream",
          "name": "stdout",
          "text": [
            "\u001b[2K     \u001b[90m━━━━━━━━━━━━━━━━━━━━━━━━━━━━━━━━━━━━━━━━\u001b[0m \u001b[32m975.5/975.5 kB\u001b[0m \u001b[31m12.5 MB/s\u001b[0m eta \u001b[36m0:00:00\u001b[0m\n",
            "\u001b[2K     \u001b[90m━━━━━━━━━━━━━━━━━━━━━━━━━━━━━━━━━━━━━━━━\u001b[0m \u001b[32m337.4/337.4 kB\u001b[0m \u001b[31m35.5 MB/s\u001b[0m eta \u001b[36m0:00:00\u001b[0m\n",
            "\u001b[2K     \u001b[90m━━━━━━━━━━━━━━━━━━━━━━━━━━━━━━━━━━━━━━━━\u001b[0m \u001b[32m127.9/127.9 kB\u001b[0m \u001b[31m16.5 MB/s\u001b[0m eta \u001b[36m0:00:00\u001b[0m\n",
            "\u001b[2K     \u001b[90m━━━━━━━━━━━━━━━━━━━━━━━━━━━━━━━━━━━━━━━━\u001b[0m \u001b[32m141.1/141.1 kB\u001b[0m \u001b[31m16.4 MB/s\u001b[0m eta \u001b[36m0:00:00\u001b[0m\n",
            "\u001b[2K     \u001b[90m━━━━━━━━━━━━━━━━━━━━━━━━━━━━━━━━━━━━━━━━\u001b[0m \u001b[32m45.9/45.9 kB\u001b[0m \u001b[31m1.6 MB/s\u001b[0m eta \u001b[36m0:00:00\u001b[0m\n",
            "\u001b[2K     \u001b[90m━━━━━━━━━━━━━━━━━━━━━━━━━━━━━━━━━━━━━━━━\u001b[0m \u001b[32m328.3/328.3 kB\u001b[0m \u001b[31m8.9 MB/s\u001b[0m eta \u001b[36m0:00:00\u001b[0m\n",
            "\u001b[2K     \u001b[90m━━━━━━━━━━━━━━━━━━━━━━━━━━━━━━━━━━━━━━━━\u001b[0m \u001b[32m1.1/1.1 MB\u001b[0m \u001b[31m37.5 MB/s\u001b[0m eta \u001b[36m0:00:00\u001b[0m\n",
            "\u001b[2K     \u001b[90m━━━━━━━━━━━━━━━━━━━━━━━━━━━━━━━━━━━━━━━━\u001b[0m \u001b[32m75.6/75.6 kB\u001b[0m \u001b[31m7.0 MB/s\u001b[0m eta \u001b[36m0:00:00\u001b[0m\n",
            "\u001b[2K     \u001b[90m━━━━━━━━━━━━━━━━━━━━━━━━━━━━━━━━━━━━━━━━\u001b[0m \u001b[32m77.9/77.9 kB\u001b[0m \u001b[31m10.5 MB/s\u001b[0m eta \u001b[36m0:00:00\u001b[0m\n",
            "\u001b[2K     \u001b[90m━━━━━━━━━━━━━━━━━━━━━━━━━━━━━━━━━━━━━━━━\u001b[0m \u001b[32m58.3/58.3 kB\u001b[0m \u001b[31m7.5 MB/s\u001b[0m eta \u001b[36m0:00:00\u001b[0m\n",
            "\u001b[?25h"
          ]
        }
      ]
    },
    {
      "cell_type": "code",
      "source": [
        "# Import necessary libraries\n",
        "import os\n",
        "from google.colab import userdata"
      ],
      "metadata": {
        "id": "A8TjG6uIPqtX"
      },
      "execution_count": null,
      "outputs": []
    },
    {
      "cell_type": "markdown",
      "source": [
        "Initialize OpenAI LLM"
      ],
      "metadata": {
        "id": "9eXOqxyZQM7X"
      }
    },
    {
      "cell_type": "code",
      "source": [
        "from langchain_openai import ChatOpenAI\n",
        "\n",
        "#Set OpenAI API key\n",
        "os.environ['OPENAI_API_KEY'] = userdata.get('OPENAI_API_KEY')\n",
        "\n",
        "# Initialize the ChatOpenAI modal\n",
        "llm = ChatOpenAI (\n",
        " model=\"gpt-3.5-turbo\",\n",
        " temperature=0\n",
        ")"
      ],
      "metadata": {
        "id": "jUanoSHiRoVI"
      },
      "execution_count": null,
      "outputs": []
    },
    {
      "cell_type": "markdown",
      "source": [
        "Initialize Prompt Template"
      ],
      "metadata": {
        "id": "7ezfDkv2bqMl"
      }
    },
    {
      "cell_type": "code",
      "source": [
        "from langchain_core.prompts import ChatPomptTemplate\n",
        "\n",
        "  # Create a prompt template\n",
        "  prompt = ChatPromptTemplate.from_messages(\n",
        "      [\n",
        "          (\"system\", \"You are an intelligent chatbot. Answer the following question.\"),\n",
        "          (\"user\", \"{question}\"),\n",
        "      ]\n",
        "  )"
      ],
      "metadata": {
        "id": "pDIjiK1bb0NX"
      },
      "execution_count": null,
      "outputs": []
    },
    {
      "cell_type": "markdown",
      "source": [
        "Initialize Output Parser"
      ],
      "metadata": {
        "id": "uyajjlHwd0_R"
      }
    },
    {
      "cell_type": "code",
      "source": [
        "from langchain_core.output_parsers import StrOutputParser\n",
        "\n",
        "# initialze  the string output parser\n",
        "output_parser = StrOutputParser()"
      ],
      "metadata": {
        "id": "yyhkTlocf9tv"
      },
      "execution_count": null,
      "outputs": []
    },
    {
      "cell_type": "code",
      "source": [
        "# Chain the prompt, LLM, and output parser\n",
        "chain = prompt | llm | parser"
      ],
      "metadata": {
        "id": "4Zexb8bwgv3Y"
      },
      "execution_count": null,
      "outputs": []
    },
    {
      "cell_type": "code",
      "source": [
        "question = \"what is generative ai?\"\n",
        "\n",
        "response = chain.invoke({\"question\": question})\n",
        "\n",
        "print(response)"
      ],
      "metadata": {
        "id": "ObVxGeLYhPqd"
      },
      "execution_count": null,
      "outputs": []
    },
    {
      "cell_type": "markdown",
      "source": [
        "Initialize Prompt Template for Dynamic Interaction"
      ],
      "metadata": {
        "id": "Bq-bSG8KnsNM"
      }
    },
    {
      "cell_type": "code",
      "source": [
        "from langchain_core.prompts import MessagesPlaceholder\n",
        "from langchain_core.messages import Humanmessage, AIMessage, SystemMessage\n",
        "\n",
        "# Create a prompt template using MessagesPlaceholder for the question\n",
        "prompt = ChatPromptTemplate.from_messages(\n",
        "    [\n",
        "        SystemMessage(content=\"You are an intelligent chatbot. Answer the following question.\"),\n",
        "        MessagesPlaceholder(variable_name=\"question\")\n",
        "    ]\n",
        ")"
      ],
      "metadata": {
        "id": "48L7RTOqn81Y"
      },
      "execution_count": null,
      "outputs": []
    },
    {
      "cell_type": "code",
      "source": [
        "# Chain the prompt, LLM, and output parser\n",
        "chain = prompt | llm | parser"
      ],
      "metadata": {
        "id": "1AmKAMoFrEKN"
      },
      "execution_count": null,
      "outputs": []
    },
    {
      "cell_type": "code",
      "source": [
        "question = \"My name is codeprolk\"\n",
        "\n",
        "response = chain.invoke({\"question\": [HumanMessage(content=question)]})\n",
        "\n",
        "print(response)"
      ],
      "metadata": {
        "id": "tcIdTrLZs3BK"
      },
      "execution_count": null,
      "outputs": []
    },
    {
      "cell_type": "code",
      "source": [
        "question = \"who am I\"\n",
        "\n",
        "response = chain.invoke({\"question\": [HumanMessage(content=question)]})\n",
        "\n",
        "print(response)"
      ],
      "metadata": {
        "id": "tlN86bLavAqD"
      },
      "execution_count": null,
      "outputs": []
    },
    {
      "cell_type": "markdown",
      "source": [
        "Initialize Prompt Template with Predefined Conversation History"
      ],
      "metadata": {
        "id": "xwSbUzUIwSSz"
      }
    },
    {
      "cell_type": "code",
      "source": [
        "# Create a prompt template with a predefined conversation history and a new question placeholder\n",
        "prompt = ChatPromptTemplate.from_messages(\n",
        "    [\n",
        "        SystemMessage(content=\"You are an intelligent chatbot. Answer the following question.\"),\n",
        "        HumanMessage(content=\"My name is Lasitha\"),\n",
        "        AIMessage(content=\"Nice to meet you, codeprolk! How can I assist you today?\"),\n",
        "        MessagesPlaceholder(variable_name=\"question\")\n",
        "    ]\n",
        ")"
      ],
      "metadata": {
        "id": "oh-1Q-1swkS7"
      },
      "execution_count": null,
      "outputs": []
    },
    {
      "cell_type": "code",
      "source": [
        "# Chain the prompt, LLM, and output parser\n",
        "chain = prompt | llm | parser"
      ],
      "metadata": {
        "id": "TKFXC9V9xkZU"
      },
      "execution_count": null,
      "outputs": []
    },
    {
      "cell_type": "code",
      "source": [
        "question = \"who am I\"\n",
        "\n",
        "response = chain.invoke({\"question\": [HumanMessage(content=question)]})\n",
        "\n",
        "print(response)"
      ],
      "metadata": {
        "id": "J448GcjWx311"
      },
      "execution_count": null,
      "outputs": []
    },
    {
      "cell_type": "markdown",
      "source": [
        "Initialize Prompt Template to Handle Dynamic Conversation History"
      ],
      "metadata": {
        "id": "-EqcOkqlyqQU"
      }
    },
    {
      "cell_type": "code",
      "source": [
        "# Create a prompt template with a dynamic conversation history and a new question placeholder\n",
        "prompt = ChatPromptTemplate.from_messages(\n",
        "    [\n",
        "        SystemMessage(content=\"You are an intelligent chatbot. Answer the following question.\"),\n",
        "        MessagesPlaceholder(variable_name=\"history\"),\n",
        "        MessagesPlaceholder(variable_name=\"question\")\n",
        "    ]\n",
        ")"
      ],
      "metadata": {
        "id": "WjDLvDbSzCpK"
      },
      "execution_count": null,
      "outputs": []
    },
    {
      "cell_type": "code",
      "source": [
        "# Chain the prompt, LLM and output parser\n",
        "chain = prompt | llm | parser"
      ],
      "metadata": {
        "id": "pR41OXms1FZq"
      },
      "execution_count": null,
      "outputs": []
    },
    {
      "cell_type": "code",
      "source": [
        "# Define the conversion history\n",
        "history = [\n",
        "    HumanMessage(content=\"My name is Lasitha\"),\n",
        "    AIMessage(content=\"Nice to meet you, Lasitha! How can I assist you today?\")\n",
        "    HumanMessage(content=\"who is 2 + 2\"),\n",
        "    AIMessage(content=\"4\")\n",
        "]"
      ],
      "metadata": {
        "id": "6kGlKg193UNZ"
      },
      "execution_count": null,
      "outputs": []
    },
    {
      "cell_type": "code",
      "source": [
        "# Chain the prompt, LLM, and output parser\n",
        "chain = prompt | llm | parser"
      ],
      "metadata": {
        "id": "8OFZL_uK4Ppp"
      },
      "execution_count": null,
      "outputs": []
    },
    {
      "cell_type": "code",
      "source": [
        "prompt = \"\"\"\n",
        "You are an intelligent chatbot. Answer the following question.\n",
        "{history}\n",
        "Question: {question}\n",
        "\"\"\""
      ],
      "metadata": {
        "id": "pBzj5R494iKE"
      },
      "execution_count": null,
      "outputs": []
    },
    {
      "cell_type": "code",
      "source": [
        "question = \"Who am I\"\n",
        "\n",
        "response = chain.invoke({\"question\": [HumanMessage(content=question)], \"history\": history})\n",
        "\n",
        "print(response)"
      ],
      "metadata": {
        "id": "sR87tQf28ii1"
      },
      "execution_count": null,
      "outputs": []
    },
    {
      "cell_type": "markdown",
      "source": [
        "Update and Display Conversation History"
      ],
      "metadata": {
        "id": "XeGa4-go81kP"
      }
    },
    {
      "cell_type": "code",
      "source": [
        "history"
      ],
      "metadata": {
        "id": "OgYQ90f586-p"
      },
      "execution_count": null,
      "outputs": []
    },
    {
      "cell_type": "code",
      "source": [
        "# Extend the history with the latest question and response\n",
        "history.append(HumanMessage(content=question)), (AIMessage(content=response))"
      ],
      "metadata": {
        "id": "GVRuOGS59BFI"
      },
      "execution_count": null,
      "outputs": []
    },
    {
      "cell_type": "code",
      "source": [
        "history"
      ],
      "metadata": {
        "id": "grjOw57F9Tnp"
      },
      "execution_count": null,
      "outputs": []
    },
    {
      "cell_type": "code",
      "source": [
        "question = \"who is my last question\"\n",
        "\n",
        "response = chain.invoke({\"question\": [HumanMessage(content=question)], \"history\": history})\n",
        "\n",
        "history.extend([HumanMessage(content=question), AIMessage(content=response)])\n",
        "\n",
        "print(response)"
      ],
      "metadata": {
        "id": "o34dFvlX9WZH"
      },
      "execution_count": null,
      "outputs": []
    },
    {
      "cell_type": "code",
      "source": [
        "history"
      ],
      "metadata": {
        "id": "o_1dn-999_1F"
      },
      "execution_count": null,
      "outputs": []
    },
    {
      "cell_type": "code",
      "source": [
        "history[-4:]"
      ],
      "metadata": {
        "id": "_p2buxwL-EL6"
      },
      "execution_count": null,
      "outputs": []
    }
  ]
}